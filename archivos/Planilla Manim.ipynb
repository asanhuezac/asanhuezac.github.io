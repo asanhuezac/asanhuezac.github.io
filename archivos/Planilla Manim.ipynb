{
 "cells": [
  {
   "cell_type": "code",
   "execution_count": 5,
   "metadata": {},
   "outputs": [
    {
     "data": {
      "text/html": [
       "<pre style=\"white-space:pre;overflow-x:auto;line-height:normal;font-family:Menlo,'DejaVu Sans Mono',consolas,'Courier New',monospace\">Manim Community <span style=\"color: #008000; text-decoration-color: #008000\">v0.12.0</span>\n",
       "\n",
       "</pre>\n"
      ],
      "text/plain": [
       "Manim Community \u001b[32mv0.\u001b[0m\u001b[32m12.0\u001b[0m\n",
       "\n"
      ]
     },
     "metadata": {},
     "output_type": "display_data"
    }
   ],
   "source": [
    "from manim import * # Llamamos al paquete manim\n",
    "config.media_width = \"50%\" # Configuramos el tamaño del cuadro reproductor\n",
    "config.media_embed = True # "
   ]
  },
  {
   "cell_type": "code",
   "execution_count": 10,
   "metadata": {},
   "outputs": [
    {
     "name": "stderr",
     "output_type": "stream",
     "text": [
      "                                                                           \r"
     ]
    },
    {
     "data": {
      "text/html": [
       "<video src=\"media\\jupyter\\Example@2022-09-16@13-24-19.mp4\" controls autoplay loop style=\"max-width: 50%;\"  >\n",
       "      Your browser does not support the <code>video</code> element.\n",
       "    </video>"
      ],
      "text/plain": [
       "<IPython.core.display.Video object>"
      ]
     },
     "metadata": {},
     "output_type": "display_data"
    }
   ],
   "source": [
    "%%manim -qm --disable_caching -v WARNING Example \n",
    "# Usamos esto para renderizar escena Example y para evitar que salgan avisos o advertencias como output\n",
    "\n",
    "config.media_embed = \"\" # <- Use this if you render video\n",
    "\n",
    "class Example(Scene):\n",
    "    def construct(self):\n",
    "        self.play(Write(Square()))\n",
    "        self.wait()"
   ]
  },
  {
   "cell_type": "code",
   "execution_count": 12,
   "metadata": {},
   "outputs": [],
   "source": [
    "from manim import * # Importamos el paquete manim\n",
    "config.media_width = \"50%\" # Definimos tamaño del reproductor\n",
    "\n",
    "ri = \"-s --disable_caching -v WARNING Example\" # Definimos la abreviación de imagen que queremos\n",
    "rv = \"-qm --disable_caching -v WARNING Example\" # Definimos la abreviación de video que queremos\n",
    "\n",
    "class MyScene(Scene):\n",
    "    def setup(self):\n",
    "        self.number_plane = NumberPlane(axis_config={\"include_numbers\": True})\n",
    "        self.add(self.number_plane) # Seteamos el plano para la escena"
   ]
  },
  {
   "cell_type": "code",
   "execution_count": 16,
   "metadata": {},
   "outputs": [
    {
     "name": "stderr",
     "output_type": "stream",
     "text": [
      "                                                                                        \r"
     ]
    },
    {
     "data": {
      "text/html": [
       "<video src=\"media\\jupyter\\Example@2022-09-16@13-52-08.mp4\" controls autoplay loop style=\"max-width: 50%;\"  >\n",
       "      Your browser does not support the <code>video</code> element.\n",
       "    </video>"
      ],
      "text/plain": [
       "<IPython.core.display.Video object>"
      ]
     },
     "metadata": {},
     "output_type": "display_data"
    }
   ],
   "source": [
    "%%manim $rv\n",
    "\n",
    "class Example(MyScene):\n",
    "    def construct(self):\n",
    "        grp = [Square(), Circle(), Star(), Triangle()] # Definimos vector de objetos\n",
    "        corner_vectors = [UR, UL, DL, DR] # Definimos vector de esquinas\n",
    "\n",
    "        self.add(*grp) # Agregamos objetos en escena\n",
    "\n",
    "        for objetos,esquinas in zip(grp,corner_vectors): # Iteramos para objetos creados\n",
    "            self.play(objetos.animate.to_corner(esquinas,buff=1)) # Movemos objetos a una unidad de la esquina \n",
    "            self.wait(0.2) \n",
    "        self.wait() "
   ]
  },
  {
   "cell_type": "code",
   "execution_count": 18,
   "metadata": {},
   "outputs": [
    {
     "name": "stderr",
     "output_type": "stream",
     "text": [
      "                                                                                            \r"
     ]
    },
    {
     "data": {
      "text/html": [
       "<video src=\"media\\jupyter\\Example@2022-09-16@13-55-21.mp4\" controls autoplay loop style=\"max-width: 50%;\"  >\n",
       "      Your browser does not support the <code>video</code> element.\n",
       "    </video>"
      ],
      "text/plain": [
       "<IPython.core.display.Video object>"
      ]
     },
     "metadata": {},
     "output_type": "display_data"
    }
   ],
   "source": [
    "%%manim $rv\n",
    "\n",
    "class Example(MyScene):\n",
    "    def construct(self):\n",
    "        grp = [Square(), Circle(), Star(), Triangle()]\n",
    "        corner_vectors = [UR, UL, DL, DR]\n",
    "\n",
    "        self.add(*grp)\n",
    "\n",
    "\n",
    "# Si queremos que los objetos se muevan todos a la vez \n",
    "        self.play(\n",
    "            *[\n",
    "                objetos.animate.to_corner(esquinas,buff=1)\n",
    "                for objetos,esquinas in zip(grp,corner_vectors) \n",
    "            ],\n",
    "            run_time=2\n",
    "        )\n",
    "        self.wait()"
   ]
  }
 ],
 "metadata": {
  "kernelspec": {
   "display_name": "Python 3.9.6 64-bit",
   "language": "python",
   "name": "python3"
  },
  "language_info": {
   "codemirror_mode": {
    "name": "ipython",
    "version": 3
   },
   "file_extension": ".py",
   "mimetype": "text/x-python",
   "name": "python",
   "nbconvert_exporter": "python",
   "pygments_lexer": "ipython3",
   "version": "3.9.6"
  },
  "orig_nbformat": 4,
  "vscode": {
   "interpreter": {
    "hash": "81794d4967e6c3204c66dcd87b604927b115b27c00565d3d43f05ba2f3a2cb0d"
   }
  }
 },
 "nbformat": 4,
 "nbformat_minor": 2
}
